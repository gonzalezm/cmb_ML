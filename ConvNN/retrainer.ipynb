{
 "cells": [
  {
   "cell_type": "code",
   "execution_count": 1,
   "metadata": {
    "colab": {
     "base_uri": "https://localhost:8080/",
     "height": 781
    },
    "colab_type": "code",
    "executionInfo": {
     "elapsed": 66117,
     "status": "ok",
     "timestamp": 1563882517353,
     "user": {
      "displayName": "X.D.topher sama",
      "photoUrl": "https://lh5.googleusercontent.com/-bezrQ2Sgsnc/AAAAAAAAAAI/AAAAAAAACa4/mLbI1TQOnSM/s64/photo.jpg",
      "userId": "09059908567566041974"
     },
     "user_tz": -120
    },
    "id": "zjoK5xlQZvTS",
    "outputId": "219d3218-cd97-480a-a331-2d0144464ae7"
   },
   "outputs": [
    {
     "name": "stdout",
     "output_type": "stream",
     "text": [
      "Collecting git+https://github.com/gonzalezm/NNhealpix.git\n",
      "  Cloning https://github.com/gonzalezm/NNhealpix.git to /tmp/pip-req-build-ockqqgao\n",
      "  Running command git clone -q https://github.com/gonzalezm/NNhealpix.git /tmp/pip-req-build-ockqqgao\n",
      "  Installing build dependencies ... \u001b[?25l\u001b[?25hdone\n",
      "  Getting requirements to build wheel ... \u001b[?25l\u001b[?25hdone\n",
      "  Installing backend dependencies ... \u001b[?25l\u001b[?25hdone\n",
      "    Preparing wheel metadata ... \u001b[?25l\u001b[?25hdone\n",
      "Requirement already satisfied (use --upgrade to upgrade): nnhealpix==0.1.0 from git+https://github.com/gonzalezm/NNhealpix.git in /usr/local/lib/python3.6/dist-packages\n",
      "Requirement already satisfied: numpy>=1.15 in /usr/local/lib/python3.6/dist-packages (from nnhealpix==0.1.0) (1.16.4)\n",
      "Requirement already satisfied: keras>=2.2 in /usr/local/lib/python3.6/dist-packages (from nnhealpix==0.1.0) (2.2.4)\n",
      "Requirement already satisfied: healpy>=1.12 in /usr/local/lib/python3.6/dist-packages (from nnhealpix==0.1.0) (1.12.9)\n",
      "Requirement already satisfied: matplotlib>=2.0 in /usr/local/lib/python3.6/dist-packages (from nnhealpix==0.1.0) (3.0.3)\n",
      "Requirement already satisfied: scipy>=1.1 in /usr/local/lib/python3.6/dist-packages (from nnhealpix==0.1.0) (1.3.0)\n",
      "Requirement already satisfied: tensorflow>=1.10 in /usr/local/lib/python3.6/dist-packages (from nnhealpix==0.1.0) (1.14.0)\n",
      "Requirement already satisfied: numba>=0.39 in /usr/local/lib/python3.6/dist-packages (from nnhealpix==0.1.0) (0.40.1)\n",
      "Requirement already satisfied: keras-preprocessing>=1.0.5 in /usr/local/lib/python3.6/dist-packages (from keras>=2.2->nnhealpix==0.1.0) (1.1.0)\n",
      "Requirement already satisfied: h5py in /usr/local/lib/python3.6/dist-packages (from keras>=2.2->nnhealpix==0.1.0) (2.8.0)\n",
      "Requirement already satisfied: six>=1.9.0 in /usr/local/lib/python3.6/dist-packages (from keras>=2.2->nnhealpix==0.1.0) (1.12.0)\n",
      "Requirement already satisfied: keras-applications>=1.0.6 in /usr/local/lib/python3.6/dist-packages (from keras>=2.2->nnhealpix==0.1.0) (1.0.8)\n",
      "Requirement already satisfied: pyyaml in /usr/local/lib/python3.6/dist-packages (from keras>=2.2->nnhealpix==0.1.0) (3.13)\n",
      "Requirement already satisfied: astropy in /usr/local/lib/python3.6/dist-packages (from healpy>=1.12->nnhealpix==0.1.0) (3.0.5)\n",
      "Requirement already satisfied: kiwisolver>=1.0.1 in /usr/local/lib/python3.6/dist-packages (from matplotlib>=2.0->nnhealpix==0.1.0) (1.1.0)\n",
      "Requirement already satisfied: cycler>=0.10 in /usr/local/lib/python3.6/dist-packages (from matplotlib>=2.0->nnhealpix==0.1.0) (0.10.0)\n",
      "Requirement already satisfied: python-dateutil>=2.1 in /usr/local/lib/python3.6/dist-packages (from matplotlib>=2.0->nnhealpix==0.1.0) (2.5.3)\n",
      "Requirement already satisfied: pyparsing!=2.0.4,!=2.1.2,!=2.1.6,>=2.0.1 in /usr/local/lib/python3.6/dist-packages (from matplotlib>=2.0->nnhealpix==0.1.0) (2.4.0)\n",
      "Requirement already satisfied: google-pasta>=0.1.6 in /usr/local/lib/python3.6/dist-packages (from tensorflow>=1.10->nnhealpix==0.1.0) (0.1.7)\n",
      "Requirement already satisfied: tensorboard<1.15.0,>=1.14.0 in /usr/local/lib/python3.6/dist-packages (from tensorflow>=1.10->nnhealpix==0.1.0) (1.14.0)\n",
      "Requirement already satisfied: tensorflow-estimator<1.15.0rc0,>=1.14.0rc0 in /usr/local/lib/python3.6/dist-packages (from tensorflow>=1.10->nnhealpix==0.1.0) (1.14.0)\n",
      "Requirement already satisfied: wheel>=0.26 in /usr/local/lib/python3.6/dist-packages (from tensorflow>=1.10->nnhealpix==0.1.0) (0.33.4)\n",
      "Requirement already satisfied: absl-py>=0.7.0 in /usr/local/lib/python3.6/dist-packages (from tensorflow>=1.10->nnhealpix==0.1.0) (0.7.1)\n",
      "Requirement already satisfied: astor>=0.6.0 in /usr/local/lib/python3.6/dist-packages (from tensorflow>=1.10->nnhealpix==0.1.0) (0.8.0)\n",
      "Requirement already satisfied: gast>=0.2.0 in /usr/local/lib/python3.6/dist-packages (from tensorflow>=1.10->nnhealpix==0.1.0) (0.2.2)\n",
      "Requirement already satisfied: protobuf>=3.6.1 in /usr/local/lib/python3.6/dist-packages (from tensorflow>=1.10->nnhealpix==0.1.0) (3.7.1)\n",
      "Requirement already satisfied: termcolor>=1.1.0 in /usr/local/lib/python3.6/dist-packages (from tensorflow>=1.10->nnhealpix==0.1.0) (1.1.0)\n",
      "Requirement already satisfied: wrapt>=1.11.1 in /usr/local/lib/python3.6/dist-packages (from tensorflow>=1.10->nnhealpix==0.1.0) (1.11.2)\n",
      "Requirement already satisfied: grpcio>=1.8.6 in /usr/local/lib/python3.6/dist-packages (from tensorflow>=1.10->nnhealpix==0.1.0) (1.15.0)\n",
      "Requirement already satisfied: llvmlite>=0.25.0dev0 in /usr/local/lib/python3.6/dist-packages (from numba>=0.39->nnhealpix==0.1.0) (0.29.0)\n",
      "Requirement already satisfied: setuptools in /usr/local/lib/python3.6/dist-packages (from kiwisolver>=1.0.1->matplotlib>=2.0->nnhealpix==0.1.0) (41.0.1)\n",
      "Requirement already satisfied: markdown>=2.6.8 in /usr/local/lib/python3.6/dist-packages (from tensorboard<1.15.0,>=1.14.0->tensorflow>=1.10->nnhealpix==0.1.0) (3.1.1)\n",
      "Requirement already satisfied: werkzeug>=0.11.15 in /usr/local/lib/python3.6/dist-packages (from tensorboard<1.15.0,>=1.14.0->tensorflow>=1.10->nnhealpix==0.1.0) (0.15.5)\n",
      "Building wheels for collected packages: nnhealpix\n",
      "  Building wheel for nnhealpix (PEP 517) ... \u001b[?25l\u001b[?25hdone\n",
      "  Stored in directory: /tmp/pip-ephem-wheel-cache-hwc0t1wl/wheels/01/64/0c/e09ec3f7352cf0b6494c569f85c43fe93ed1e56b49db38a3d7\n",
      "Successfully built nnhealpix\n"
     ]
    }
   ],
   "source": [
    "!pip install git+https://github.com/gonzalezm/NNhealpix.git"
   ]
  },
  {
   "cell_type": "code",
   "execution_count": 2,
   "metadata": {
    "colab": {
     "base_uri": "https://localhost:8080/",
     "height": 312
    },
    "colab_type": "code",
    "executionInfo": {
     "elapsed": 72287,
     "status": "ok",
     "timestamp": 1563882523601,
     "user": {
      "displayName": "X.D.topher sama",
      "photoUrl": "https://lh5.googleusercontent.com/-bezrQ2Sgsnc/AAAAAAAAAAI/AAAAAAAACa4/mLbI1TQOnSM/s64/photo.jpg",
      "userId": "09059908567566041974"
     },
     "user_tz": -120
    },
    "id": "VKEqM621Zyf9",
    "outputId": "cc13aa0c-f73f-4716-abe8-339acc964c45"
   },
   "outputs": [
    {
     "name": "stdout",
     "output_type": "stream",
     "text": [
      "Requirement already satisfied: camb in /usr/local/lib/python3.6/dist-packages (1.0.6)\n",
      "Requirement already satisfied: six in /usr/local/lib/python3.6/dist-packages (from camb) (1.12.0)\n",
      "Requirement already satisfied: sympy>=1.0 in /usr/local/lib/python3.6/dist-packages (from camb) (1.1.1)\n",
      "Requirement already satisfied: scipy>=1.0 in /usr/local/lib/python3.6/dist-packages (from camb) (1.3.0)\n",
      "Requirement already satisfied: mpmath>=0.19 in /usr/local/lib/python3.6/dist-packages (from sympy>=1.0->camb) (1.1.0)\n",
      "Requirement already satisfied: numpy>=1.13.3 in /usr/local/lib/python3.6/dist-packages (from scipy>=1.0->camb) (1.16.4)\n",
      "Requirement already satisfied: healpy in /usr/local/lib/python3.6/dist-packages (1.12.9)\n",
      "Requirement already satisfied: numpy>=1.13 in /usr/local/lib/python3.6/dist-packages (from healpy) (1.16.4)\n",
      "Requirement already satisfied: matplotlib in /usr/local/lib/python3.6/dist-packages (from healpy) (3.0.3)\n",
      "Requirement already satisfied: astropy in /usr/local/lib/python3.6/dist-packages (from healpy) (3.0.5)\n",
      "Requirement already satisfied: six in /usr/local/lib/python3.6/dist-packages (from healpy) (1.12.0)\n",
      "Requirement already satisfied: scipy in /usr/local/lib/python3.6/dist-packages (from healpy) (1.3.0)\n",
      "Requirement already satisfied: pyparsing!=2.0.4,!=2.1.2,!=2.1.6,>=2.0.1 in /usr/local/lib/python3.6/dist-packages (from matplotlib->healpy) (2.4.0)\n",
      "Requirement already satisfied: cycler>=0.10 in /usr/local/lib/python3.6/dist-packages (from matplotlib->healpy) (0.10.0)\n",
      "Requirement already satisfied: kiwisolver>=1.0.1 in /usr/local/lib/python3.6/dist-packages (from matplotlib->healpy) (1.1.0)\n",
      "Requirement already satisfied: python-dateutil>=2.1 in /usr/local/lib/python3.6/dist-packages (from matplotlib->healpy) (2.5.3)\n",
      "Requirement already satisfied: setuptools in /usr/local/lib/python3.6/dist-packages (from kiwisolver>=1.0.1->matplotlib->healpy) (41.0.1)\n"
     ]
    }
   ],
   "source": [
    "!pip install camb\n",
    "!pip install healpy"
   ]
  },
  {
   "cell_type": "code",
   "execution_count": 3,
   "metadata": {
    "colab": {
     "base_uri": "https://localhost:8080/",
     "height": 436
    },
    "colab_type": "code",
    "executionInfo": {
     "elapsed": 77619,
     "status": "ok",
     "timestamp": 1563882528984,
     "user": {
      "displayName": "X.D.topher sama",
      "photoUrl": "https://lh5.googleusercontent.com/-bezrQ2Sgsnc/AAAAAAAAAAI/AAAAAAAACa4/mLbI1TQOnSM/s64/photo.jpg",
      "userId": "09059908567566041974"
     },
     "user_tz": -120
    },
    "id": "HxgWd-uGZ4s2",
    "outputId": "b216b786-5ac6-4d3b-8f0a-4650919fd66d"
   },
   "outputs": [
    {
     "name": "stderr",
     "output_type": "stream",
     "text": [
      "Using TensorFlow backend.\n",
      "WARNING: Logging before flag parsing goes to stderr.\n",
      "W0723 11:49:03.137925 139656545941376 deprecation_wrapper.py:119] From /usr/local/lib/python3.6/dist-packages/keras/backend/tensorflow_backend.py:517: The name tf.placeholder is deprecated. Please use tf.compat.v1.placeholder instead.\n",
      "\n"
     ]
    },
    {
     "name": "stdout",
     "output_type": "stream",
     "text": [
      "Drive already mounted at /content/gdrive; to attempt to forcibly remount, call drive.mount(\"/content/gdrive\", force_remount=True).\n"
     ]
    },
    {
     "name": "stderr",
     "output_type": "stream",
     "text": [
      "W0723 11:49:03.361499 139656545941376 deprecation.py:323] From /usr/local/lib/python3.6/dist-packages/nnhealpix/layers/__init__.py:35: to_float (from tensorflow.python.ops.math_ops) is deprecated and will be removed in a future version.\n",
      "Instructions for updating:\n",
      "Use `tf.cast` instead.\n",
      "W0723 11:49:03.379963 139656545941376 deprecation_wrapper.py:119] From /usr/local/lib/python3.6/dist-packages/keras/backend/tensorflow_backend.py:4138: The name tf.random_uniform is deprecated. Please use tf.random.uniform instead.\n",
      "\n",
      "W0723 11:49:03.411648 139656545941376 deprecation_wrapper.py:119] From /usr/local/lib/python3.6/dist-packages/keras/backend/tensorflow_backend.py:3980: The name tf.nn.avg_pool is deprecated. Please use tf.nn.avg_pool2d instead.\n",
      "\n",
      "W0723 11:49:03.535287 139656545941376 deprecation_wrapper.py:119] From /usr/local/lib/python3.6/dist-packages/keras/backend/tensorflow_backend.py:131: The name tf.get_default_graph is deprecated. Please use tf.compat.v1.get_default_graph instead.\n",
      "\n",
      "W0723 11:49:03.536491 139656545941376 deprecation_wrapper.py:119] From /usr/local/lib/python3.6/dist-packages/keras/backend/tensorflow_backend.py:133: The name tf.placeholder_with_default is deprecated. Please use tf.compat.v1.placeholder_with_default instead.\n",
      "\n",
      "W0723 11:49:03.549218 139656545941376 deprecation.py:506] From /usr/local/lib/python3.6/dist-packages/keras/backend/tensorflow_backend.py:3445: calling dropout (from tensorflow.python.ops.nn_ops) with keep_prob is deprecated and will be removed in a future version.\n",
      "Instructions for updating:\n",
      "Please use `rate` instead of `keep_prob`. Rate should be set to `rate = 1 - keep_prob`.\n",
      "W0723 11:49:03.848753 139656545941376 deprecation_wrapper.py:119] From /usr/local/lib/python3.6/dist-packages/keras/backend/tensorflow_backend.py:174: The name tf.get_default_session is deprecated. Please use tf.compat.v1.get_default_session instead.\n",
      "\n",
      "W0723 11:49:03.976862 139656545941376 deprecation_wrapper.py:119] From /usr/local/lib/python3.6/dist-packages/keras/optimizers.py:790: The name tf.train.Optimizer is deprecated. Please use tf.compat.v1.train.Optimizer instead.\n",
      "\n"
     ]
    }
   ],
   "source": [
    "import keras as kr\n",
    "import datetime\n",
    "import nnhealpix.layers\n",
    "from google.colab import drive\n",
    "drive.mount('/content/gdrive')\n",
    "\n",
    "today = datetime.datetime.now().strftime('%Y%m%d_%H_%M_%S')\n",
    "in_dir=\"/content/gdrive/My Drive/Colab Notebooks/test17\"\n",
    "\n",
    "model = kr.models.load_model(in_dir +  \"_mymodel_CNN.h5py.File\", \n",
    "                   custom_objects={'OrderMap': nnhealpix.layers.OrderMap})"
   ]
  },
  {
   "cell_type": "code",
   "execution_count": 4,
   "metadata": {
    "colab": {
     "base_uri": "https://localhost:8080/",
     "height": 139
    },
    "colab_type": "code",
    "executionInfo": {
     "elapsed": 85443,
     "status": "ok",
     "timestamp": 1563882536911,
     "user": {
      "displayName": "X.D.topher sama",
      "photoUrl": "https://lh5.googleusercontent.com/-bezrQ2Sgsnc/AAAAAAAAAAI/AAAAAAAACa4/mLbI1TQOnSM/s64/photo.jpg",
      "userId": "09059908567566041974"
     },
     "user_tz": -120
    },
    "id": "SZKYs-sSZ49Q",
    "outputId": "e4f54946-23a6-4acb-ddf8-64efa411f79b"
   },
   "outputs": [
    {
     "name": "stdout",
     "output_type": "stream",
     "text": [
      "total\n",
      "unlensed_scalar\n",
      "unlensed_total\n",
      "lensed_scalar\n",
      "tensor\n",
      "lens_potential\n",
      "(2551, 4)\n"
     ]
    }
   ],
   "source": [
    "import camb\n",
    "from camb import initialpower\n",
    "import healpy as hp \n",
    "import numpy as np\n",
    "from pylab import *\n",
    "rcParams['image.cmap'] = 'jet'\n",
    "\n",
    "#Set up a new set of parameters for CAMB\n",
    "pars = camb.CAMBparams()\n",
    "#This function sets up CosmoMC-like settings, with one massive neutrino and helium set using BBN consistency\n",
    "pars.set_cosmology(H0=67.5, ombh2=0.022, omch2=0.122, mnu=0.06, omk=0, tau=0.06)\n",
    "pars.InitPower.set_params(ns=0.965, r=0)\n",
    "pars.set_for_lmax(2500, lens_potential_accuracy=0)\n",
    "#calculate results for these parameters\n",
    "results = camb.get_results(pars)\n",
    "#get dictionary of CAMB power spectra\n",
    "powers =results.get_cmb_power_spectra(pars, CMB_unit='muK')\n",
    "for name in powers: print(name)\n",
    "\n",
    "\n",
    "#plot the total lensed CMB power spectra versus unlensed, and fractional difference\n",
    "totCL=powers['total']\n",
    "unlensedCL=powers['unlensed_scalar']\n",
    "print(totCL.shape)\n",
    "\n",
    "ls = np.arange(totCL.shape[0])"
   ]
  },
  {
   "cell_type": "code",
   "execution_count": 5,
   "metadata": {
    "colab": {
     "base_uri": "https://localhost:8080/",
     "height": 69
    },
    "colab_type": "code",
    "executionInfo": {
     "elapsed": 85404,
     "status": "ok",
     "timestamp": 1563882536930,
     "user": {
      "displayName": "X.D.topher sama",
      "photoUrl": "https://lh5.googleusercontent.com/-bezrQ2Sgsnc/AAAAAAAAAAI/AAAAAAAACa4/mLbI1TQOnSM/s64/photo.jpg",
      "userId": "09059908567566041974"
     },
     "user_tz": -120
    },
    "id": "x6AI6ISbaS-l",
    "outputId": "417afb0d-5888-4de3-c425-a18a169637f5"
   },
   "outputs": [
    {
     "name": "stdout",
     "output_type": "stream",
     "text": [
      "0\n"
     ]
    },
    {
     "name": "stderr",
     "output_type": "stream",
     "text": [
      "/usr/local/lib/python3.6/dist-packages/ipykernel_launcher.py:2: RuntimeWarning: invalid value encountered in true_divide\n",
      "  \n"
     ]
    }
   ],
   "source": [
    "print(ls[0])\n",
    "CL = totCL[:,0]/ls/(ls+1)\n",
    "CL[0]=0\n",
    "\n",
    "ns = 16\n",
    "lmax = 2*ns-1\n",
    "nl = 2*ns\n",
    "nalm = (nl)*(nl+1)/2"
   ]
  },
  {
   "cell_type": "code",
   "execution_count": 0,
   "metadata": {
    "colab": {},
    "colab_type": "code",
    "id": "JbFcJPtHaXXW"
   },
   "outputs": [],
   "source": [
    "### Target power spectra\n",
    "\n",
    "nbmodels = 110000\n",
    "nnn = int(nbmodels/30)\n",
    "npixok = 12*ns**2\n",
    "limit_shape = 3*ns\n",
    "okpix = np.arange(npixok)\n",
    "mymaps = np.zeros((nbmodels, npixok))\n",
    "myalms = np.zeros((nbmodels, int(nalm)), dtype=complex128)\n",
    "expcls = np.zeros((nbmodels, nl))\n",
    "mycls = np.zeros((nbmodels, nl))\n",
    "allshapes = np.zeros((nbmodels, len(ls)))\n",
    "for i in range(nbmodels):\n",
    "  ylo = np.random.rand()*2\n",
    "  yhi = np.random.rand()*2\n",
    "  theshape = ylo+(yhi-ylo)/(limit_shape)*ls\n",
    "  theshape[theshape < 0] = 0\n",
    "  theshape[limit_shape:] = 0\n",
    "  allshapes[i,:] = theshape\n",
    "  theCL = CL*theshape\n",
    "  themap = hp.synfast(theCL, ns, pixwin=False, verbose=False)\n",
    "  mymaps[i,:] = themap[okpix]\n",
    "  expcls[i,:], myalms[i,:] = hp.anafast(themap, lmax=lmax, alm=True)\n",
    "  mycls[i,:] = theCL[0:nl]"
   ]
  },
  {
   "cell_type": "code",
   "execution_count": 7,
   "metadata": {
    "colab": {
     "base_uri": "https://localhost:8080/",
     "height": 52
    },
    "colab_type": "code",
    "executionInfo": {
     "elapsed": 5908153,
     "status": "ok",
     "timestamp": 1563894651955,
     "user": {
      "displayName": "X.D.topher sama",
      "photoUrl": "https://lh5.googleusercontent.com/-bezrQ2Sgsnc/AAAAAAAAAAI/AAAAAAAACa4/mLbI1TQOnSM/s64/photo.jpg",
      "userId": "09059908567566041974"
     },
     "user_tz": -120
    },
    "id": "Bn5iIOTfaaaU",
    "outputId": "e29b15ed-cf33-43c9-a8fe-7a1106d2f1a1"
   },
   "outputs": [
    {
     "name": "stdout",
     "output_type": "stream",
     "text": [
      "1\n",
      ".........."
     ]
    }
   ],
   "source": [
    "# Training\n",
    "nbtest = 10000\n",
    "\n",
    "mapx = (mymaps-np.mean(mymaps))/np.std(mymaps)\n",
    "clstd = np.std(mycls)\n",
    "clmean = np.mean(mycls)\n",
    "cly = (mycls-np.mean(mycls))/np.std(mycls)\n",
    "\n",
    "mapx = mapx.reshape(mapx.shape[0], len(mapx[0]), 1)\n",
    "\n",
    "mymaps = mymaps.reshape(mymaps.shape[0], len(mymaps[0]), 1)\n",
    "\n",
    "class PrintNum(kr.callbacks.Callback):\n",
    "  def on_epoch_end(self,epoch,logs):\n",
    "    if (epoch) % 10 == 0: \n",
    "      print(epoch+1)\n",
    "    sys.stdout.write('.')\n",
    "    sys.stdout.flush()\n",
    "\n",
    "stop = kr.callbacks.EarlyStopping(monitor='val_loss',\n",
    "                                  verbose = 0,\n",
    "                                  restore_best_weights=True,\n",
    "                                  patience=20)\n",
    "\n",
    "callbacks = [PrintNum(), stop]\n",
    "\n",
    "history = model.fit(mapx[:(nbmodels-nbtest),:,:], mycls[:(nbmodels-nbtest),:], epochs=10, batch_size=32, validation_split = 0.1, verbose = 0, callbacks=callbacks, shuffle = True)"
   ]
  },
  {
   "cell_type": "code",
   "execution_count": 8,
   "metadata": {
    "colab": {
     "base_uri": "https://localhost:8080/",
     "height": 312
    },
    "colab_type": "code",
    "executionInfo": {
     "elapsed": 814,
     "status": "ok",
     "timestamp": 1563894652754,
     "user": {
      "displayName": "X.D.topher sama",
      "photoUrl": "https://lh5.googleusercontent.com/-bezrQ2Sgsnc/AAAAAAAAAAI/AAAAAAAACa4/mLbI1TQOnSM/s64/photo.jpg",
      "userId": "09059908567566041974"
     },
     "user_tz": -120
    },
    "id": "kdRjeAJOapWK",
    "outputId": "6fb3a50e-c1b8-4648-bcc6-6c2bcb2f37b6"
   },
   "outputs": [
    {
     "data": {
      "image/png": "[encoded data removed]",
      "text/plain": [
       "<Figure size 432x288 with 1 Axes>"
      ]
     },
     "metadata": {
      "tags": []
     },
     "output_type": "display_data"
    },
    {
     "name": "stdout",
     "output_type": "stream",
     "text": [
      "21.683635472954645 16.771649713134767 50\n"
     ]
    }
   ],
   "source": [
    "loss1 = np.load(in_dir + '_hist_loss.npy')\n",
    "val_loss1 = np.load(in_dir + '_hist_val_loss.npy')\n",
    "\n",
    "loss2 = history.history['loss']\n",
    "val_loss2 = history.history['val_loss']\n",
    "\n",
    "loss = np.concatenate((loss1,loss2))\n",
    "val_loss = np.concatenate((val_loss1,val_loss2))\n",
    "\n",
    "plot(loss)\n",
    "plot(val_loss)\n",
    "title('model loss')\n",
    "ylabel('loss')\n",
    "xlabel('epoch')\n",
    "legend(['train', 'test'], loc='upper left')\n",
    "yscale('log')\n",
    "show()\n",
    "print(min(loss), min(val_loss), len(val_loss))"
   ]
  },
  {
   "cell_type": "code",
   "execution_count": 0,
   "metadata": {
    "colab": {},
    "colab_type": "code",
    "id": "bxMs1kkdauwk"
   },
   "outputs": [],
   "source": [
    "mymaps_test = mapx[(nbmodels-nbtest):,:,:]\n",
    "mycls_test = mycls[(nbmodels-nbtest):,:]\n",
    "expcls_test = expcls[(nbmodels-nbtest):,:]\n",
    "\n",
    "result = model.predict(mymaps_test, batch_size=128)\n"
   ]
  },
  {
   "cell_type": "code",
   "execution_count": 10,
   "metadata": {
    "colab": {
     "base_uri": "https://localhost:8080/",
     "height": 52
    },
    "colab_type": "code",
    "executionInfo": {
     "elapsed": 134,
     "status": "ok",
     "timestamp": 1563894680754,
     "user": {
      "displayName": "X.D.topher sama",
      "photoUrl": "https://lh5.googleusercontent.com/-bezrQ2Sgsnc/AAAAAAAAAAI/AAAAAAAACa4/mLbI1TQOnSM/s64/photo.jpg",
      "userId": "09059908567566041974"
     },
     "user_tz": -120
    },
    "id": "E9gatY-JbCC9",
    "outputId": "78f74ca0-d5cd-4b95-fe24-c1e4f29409d9"
   },
   "outputs": [
    {
     "name": "stdout",
     "output_type": "stream",
     "text": [
      "23.889915106695522\n",
      "22.312330086797022\n"
     ]
    }
   ],
   "source": [
    "mean_err = np.mean(abs((result[:,2:]-mycls_test[:,2:])/mycls_test[:,2:]*100))\n",
    "mean_err_ana = np.mean(abs((expcls_test[:,2:]-mycls_test[:,2:])/mycls_test[:,2:]*100))\n",
    "print(mean_err)\n",
    "print(mean_err_ana)"
   ]
  },
  {
   "cell_type": "code",
   "execution_count": 11,
   "metadata": {
    "colab": {
     "base_uri": "https://localhost:8080/",
     "height": 298
    },
    "colab_type": "code",
    "executionInfo": {
     "elapsed": 541,
     "status": "ok",
     "timestamp": 1563894681260,
     "user": {
      "displayName": "X.D.topher sama",
      "photoUrl": "https://lh5.googleusercontent.com/-bezrQ2Sgsnc/AAAAAAAAAAI/AAAAAAAACa4/mLbI1TQOnSM/s64/photo.jpg",
      "userId": "09059908567566041974"
     },
     "user_tz": -120
    },
    "id": "WCBxxR_bbda9",
    "outputId": "578d86a9-f2b6-46ca-ad1b-bd71d2d924a2"
   },
   "outputs": [
    {
     "data": {
      "text/plain": [
       "<matplotlib.legend.Legend at 0x7f0403742438>"
      ]
     },
     "execution_count": 11,
     "metadata": {
      "tags": []
     },
     "output_type": "execute_result"
    },
    {
     "data": {
      "image/png": "[encoded data removed]",
      "text/plain": [
       "<Figure size 432x288 with 1 Axes>"
      ]
     },
     "metadata": {
      "tags": []
     },
     "output_type": "display_data"
    }
   ],
   "source": [
    "lt=np.arange(nl)\n",
    "num=np.random.randint(result.shape[0])\n",
    "plot(lt, lt*(lt+1)*mycls_test[num,:],label ='Input spectra')\n",
    "plot(lt, lt*(lt+1)*expcls_test[num,:],label ='Anafast')\n",
    "plot(lt, lt*(lt+1)*result[num,:],label ='ML')\n",
    "title(num)\n",
    "legend()"
   ]
  },
  {
   "cell_type": "code",
   "execution_count": 14,
   "metadata": {
    "colab": {
     "base_uri": "https://localhost:8080/",
     "height": 542
    },
    "colab_type": "code",
    "executionInfo": {
     "elapsed": 3288,
     "status": "ok",
     "timestamp": 1563894807699,
     "user": {
      "displayName": "X.D.topher sama",
      "photoUrl": "https://lh5.googleusercontent.com/-bezrQ2Sgsnc/AAAAAAAAAAI/AAAAAAAACa4/mLbI1TQOnSM/s64/photo.jpg",
      "userId": "09059908567566041974"
     },
     "user_tz": -120
    },
    "id": "DwKduDPAbiqU",
    "outputId": "71b82efc-2abd-4904-a5ec-88a8a787a83f"
   },
   "outputs": [
    {
     "data": {
      "text/plain": [
       "<matplotlib.legend.Legend at 0x7f0402dec0f0>"
      ]
     },
     "execution_count": 14,
     "metadata": {
      "tags": []
     },
     "output_type": "execute_result"
    },
    {
     "data": {
      "image/png": "[encoded data removed]",
      "text/plain": [
       "<Figure size 432x288 with 1 Axes>"
      ]
     },
     "metadata": {
      "tags": []
     },
     "output_type": "display_data"
    },
    {
     "data": {
      "image/png": "[encoded data removed]",
      "text/plain": [
       "<Figure size 432x288 with 1 Axes>"
      ]
     },
     "metadata": {
      "tags": []
     },
     "output_type": "display_data"
    }
   ],
   "source": [
    "figure()\n",
    "a=hist(np.ravel(expcls_test[:,2:]-mycls_test[:,2:]), bins=100, alpha=0.5, label='Anafast')\n",
    "a=hist(np.ravel(result[:,2:]-mycls_test[:,2:]), bins=100, alpha=0.5, label = 'ML')\n",
    "yscale('log')\n",
    "legend()\n",
    "\n",
    "ch2anafast = np.sum((expcls_test[:,2:]-mycls_test[:,2:])**2, axis=1)\n",
    "ch2ML = np.sum((result[:,2:]-mycls_test[:,2:])**2, axis=1)\n",
    "\n",
    "figure()\n",
    "a=hist(ch2anafast, bins=100, alpha=0.5, label='Anafast')\n",
    "a=hist(ch2ML, bins=100, alpha=0.5, label = 'ML')\n",
    "yscale('log')\n",
    "legend()"
   ]
  },
  {
   "cell_type": "code",
   "execution_count": 13,
   "metadata": {
    "colab": {
     "base_uri": "https://localhost:8080/",
     "height": 34
    },
    "colab_type": "code",
    "executionInfo": {
     "elapsed": 305,
     "status": "ok",
     "timestamp": 1563894683887,
     "user": {
      "displayName": "X.D.topher sama",
      "photoUrl": "https://lh5.googleusercontent.com/-bezrQ2Sgsnc/AAAAAAAAAAI/AAAAAAAACa4/mLbI1TQOnSM/s64/photo.jpg",
      "userId": "09059908567566041974"
     },
     "user_tz": -120
    },
    "id": "y-cGStBAbjW8",
    "outputId": "a18e9a61-5c27-4be9-936c-55dd60928b23"
   },
   "outputs": [
    {
     "name": "stdout",
     "output_type": "stream",
     "text": [
      "Drive already mounted at /content/gdrive; to attempt to forcibly remount, call drive.mount(\"/content/gdrive\", force_remount=True).\n"
     ]
    }
   ],
   "source": [
    "import keras as kr\n",
    "import datetime\n",
    "from google.colab import drive\n",
    "drive.mount('/content/gdrive')\n",
    "\n",
    "today = datetime.datetime.now().strftime('%Y%m%d_%H_%M_%S')\n",
    "out_dir=\"/content/gdrive/My Drive/Colab Notebooks/\"\n",
    "\n",
    "kr.models.save_model(model, out_dir +  \"test18\" + \"_mymodel_CNN.h5py.File\")\n",
    "np.save(out_dir + \"test18\" + '_hist_loss', loss)\n",
    "np.save(out_dir + \"test18\" + '_hist_val_loss', val_loss)"
   ]
  },
  {
   "cell_type": "code",
   "execution_count": 0,
   "metadata": {
    "colab": {},
    "colab_type": "code",
    "id": "WPaFvLACmJ2c"
   },
   "outputs": [],
   "source": []
  }
 ],
 "metadata": {
  "colab": {
   "collapsed_sections": [],
   "name": "retrainer.ipynb",
   "provenance": [],
   "version": "0.3.2"
  },
  "kernelspec": {
   "display_name": "Python 3",
   "language": "python",
   "name": "python3"
  },
  "language_info": {
   "codemirror_mode": {
    "name": "ipython",
    "version": 3
   },
   "file_extension": ".py",
   "mimetype": "text/x-python",
   "name": "python",
   "nbconvert_exporter": "python",
   "pygments_lexer": "ipython3",
   "version": "3.6.7"
  }
 },
 "nbformat": 4,
 "nbformat_minor": 1
}
